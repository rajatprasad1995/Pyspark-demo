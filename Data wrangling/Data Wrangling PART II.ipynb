{
 "cells": [
  {
   "cell_type": "markdown",
   "metadata": {},
   "source": [
    "**Datawrangling using Python API of Spark - Part 2**"
   ]
  },
  {
   "cell_type": "markdown",
   "metadata": {},
   "source": [
    "In this notebook I will be analyzing CSV data using Python API of spark. See the **table of contents** for the topics that are being covered. "
   ]
  },
  {
   "cell_type": "markdown",
   "metadata": {},
   "source": [
    "**Table of Contents**\n",
    "\n",
    "- Reading data \n",
    "- User Defined Functions\n",
    "- Explode a column of Type Array \n",
    "- Joining Table (Inner)\n",
    "- Aggregation\n",
    "- Visualization with Plotly\n",
    "- Window Functions (Ranking)"
   ]
  },
  {
   "cell_type": "markdown",
   "metadata": {},
   "source": [
    "The data is obtained from MovieLens can be found here https://grouplens.org/datasets/movielens/25m/\n",
    "\n",
    "**The first part can be found here** https://github.com/rajatprasad1995/Pyspark-demo/blob/main/Data%20wrangling/Data%20wrangling.ipynb"
   ]
  },
  {
   "cell_type": "markdown",
   "metadata": {},
   "source": [
    "Import findspark to run spark on local mode "
   ]
  },
  {
   "cell_type": "code",
   "execution_count": 1,
   "metadata": {
    "ExecuteTime": {
     "end_time": "2020-10-20T20:20:28.563431Z",
     "start_time": "2020-10-20T20:20:28.503811Z"
    }
   },
   "outputs": [],
   "source": [
    "import findspark"
   ]
  },
  {
   "cell_type": "code",
   "execution_count": 2,
   "metadata": {
    "ExecuteTime": {
     "end_time": "2020-10-20T20:20:29.923712Z",
     "start_time": "2020-10-20T20:20:29.918710Z"
    }
   },
   "outputs": [],
   "source": [
    "findspark.init()"
   ]
  },
  {
   "cell_type": "markdown",
   "metadata": {},
   "source": [
    "Import **SparkSession** from *Pyspark.sql* to create a Spark Session, I will also be enabling **hive support** to read and write tables to hive.\n",
    "\n",
    "I am going to run this session locally on my machine and use all cores available."
   ]
  },
  {
   "cell_type": "code",
   "execution_count": 3,
   "metadata": {
    "ExecuteTime": {
     "end_time": "2020-10-20T20:20:32.792587Z",
     "start_time": "2020-10-20T20:20:32.147091Z"
    }
   },
   "outputs": [],
   "source": [
    "from pyspark.sql import SparkSession"
   ]
  },
  {
   "cell_type": "code",
   "execution_count": 4,
   "metadata": {
    "ExecuteTime": {
     "end_time": "2020-10-20T20:20:52.918547Z",
     "start_time": "2020-10-20T20:20:43.354633Z"
    }
   },
   "outputs": [],
   "source": [
    "spark = SparkSession.builder.enableHiveSupport().appName(\n",
    "    \"Movie lens data wrangling\").master(\"local[*]\").getOrCreate()"
   ]
  },
  {
   "cell_type": "markdown",
   "metadata": {},
   "source": [
    "Now that we have the spark session up and running we can read the files, the files are in csv format (comma separated) where **comma are escaped in double quotes**. The files are encoded in **UTF-8**."
   ]
  },
  {
   "cell_type": "markdown",
   "metadata": {},
   "source": [
    "### Reading data "
   ]
  },
  {
   "cell_type": "code",
   "execution_count": 5,
   "metadata": {
    "ExecuteTime": {
     "end_time": "2020-10-20T20:20:57.942156Z",
     "start_time": "2020-10-20T20:20:53.283494Z"
    }
   },
   "outputs": [],
   "source": [
    "ratings = spark.read.format(\"csv\").option(\"delimiter\", \",\").option(\n",
    "    \"ESCAPE quote\",\n",
    "    '\"').option(\"header\",\n",
    "                True).option(\"encoding\",\n",
    "                             \"UTF-8\").load(\"movielens/ml-25m/ratings.csv\")"
   ]
  },
  {
   "cell_type": "markdown",
   "metadata": {},
   "source": [
    "Let's take a look at the table"
   ]
  },
  {
   "cell_type": "code",
   "execution_count": 6,
   "metadata": {
    "ExecuteTime": {
     "end_time": "2020-10-20T20:20:58.238976Z",
     "start_time": "2020-10-20T20:20:57.942156Z"
    }
   },
   "outputs": [
    {
     "name": "stdout",
     "output_type": "stream",
     "text": [
      "+------+-------+------+----------+\n",
      "|userId|movieId|rating| timestamp|\n",
      "+------+-------+------+----------+\n",
      "|     1|    296|   5.0|1147880044|\n",
      "|     1|    306|   3.5|1147868817|\n",
      "|     1|    307|   5.0|1147868828|\n",
      "|     1|    665|   5.0|1147878820|\n",
      "|     1|    899|   3.5|1147868510|\n",
      "|     1|   1088|   4.0|1147868495|\n",
      "|     1|   1175|   3.5|1147868826|\n",
      "|     1|   1217|   3.5|1147878326|\n",
      "|     1|   1237|   5.0|1147868839|\n",
      "|     1|   1250|   4.0|1147868414|\n",
      "+------+-------+------+----------+\n",
      "only showing top 10 rows\n",
      "\n"
     ]
    }
   ],
   "source": [
    "ratings.show(10)"
   ]
  },
  {
   "cell_type": "markdown",
   "metadata": {},
   "source": [
    "Importing **functions** module from pyspark.sql \n",
    "\n",
    "Importing **types** module from pyspark.sql "
   ]
  },
  {
   "cell_type": "code",
   "execution_count": 7,
   "metadata": {
    "ExecuteTime": {
     "end_time": "2020-10-20T20:20:58.257973Z",
     "start_time": "2020-10-20T20:20:58.241977Z"
    }
   },
   "outputs": [],
   "source": [
    "from pyspark.sql import functions as f\n",
    "from pyspark.sql import types as t"
   ]
  },
  {
   "cell_type": "markdown",
   "metadata": {},
   "source": [
    "Let's take a look at **data types** of each column"
   ]
  },
  {
   "cell_type": "code",
   "execution_count": 8,
   "metadata": {
    "ExecuteTime": {
     "end_time": "2020-10-20T20:20:58.383977Z",
     "start_time": "2020-10-20T20:20:58.260975Z"
    }
   },
   "outputs": [
    {
     "data": {
      "text/plain": [
       "[('userId', 'string'),\n",
       " ('movieId', 'string'),\n",
       " ('rating', 'string'),\n",
       " ('timestamp', 'string')]"
      ]
     },
     "execution_count": 8,
     "metadata": {},
     "output_type": "execute_result"
    }
   ],
   "source": [
    "ratings.dtypes"
   ]
  },
  {
   "cell_type": "markdown",
   "metadata": {},
   "source": [
    "**timestamp** column is of type string and **rating** is of type string. They need to be *casted* in the desirable data type"
   ]
  },
  {
   "cell_type": "code",
   "execution_count": 9,
   "metadata": {
    "ExecuteTime": {
     "end_time": "2020-10-20T20:20:59.209932Z",
     "start_time": "2020-10-20T20:20:59.150930Z"
    }
   },
   "outputs": [],
   "source": [
    "ratings = ratings.withColumn(\n",
    "    'timestamp',\n",
    "    f.from_unixtime(ratings.timestamp.cast(dataType=t.LongType())))\n",
    "\n",
    "ratings = ratings.withColumn('rating',\n",
    "                             ratings.rating.cast(dataType=t.FloatType()))"
   ]
  },
  {
   "cell_type": "markdown",
   "metadata": {},
   "source": [
    "Let's take a look at number of partitions **ratings** table have"
   ]
  },
  {
   "cell_type": "code",
   "execution_count": 10,
   "metadata": {
    "ExecuteTime": {
     "end_time": "2020-10-20T20:21:01.622263Z",
     "start_time": "2020-10-20T20:21:01.456558Z"
    }
   },
   "outputs": [
    {
     "data": {
      "text/plain": [
       "6"
      ]
     },
     "execution_count": 10,
     "metadata": {},
     "output_type": "execute_result"
    }
   ],
   "source": [
    "ratings.rdd.getNumPartitions()"
   ]
  },
  {
   "cell_type": "markdown",
   "metadata": {},
   "source": [
    "I will now be reading movies.csv which contains **information** of each movie"
   ]
  },
  {
   "cell_type": "code",
   "execution_count": 11,
   "metadata": {
    "ExecuteTime": {
     "end_time": "2020-10-20T20:21:07.637394Z",
     "start_time": "2020-10-20T20:21:07.183160Z"
    }
   },
   "outputs": [],
   "source": [
    "movies = spark.read.format(\"csv\").option(\"delimiter\", \",\").option(\n",
    "    \"ESCAPE quote\",\n",
    "    '\"').option(\"header\",\n",
    "                True).option(\"encoding\",\n",
    "                             \"UTF-8\").load(\"movielens/ml-25m/movies.csv\")"
   ]
  },
  {
   "cell_type": "markdown",
   "metadata": {},
   "source": [
    "Let's take a look at the table"
   ]
  },
  {
   "cell_type": "code",
   "execution_count": 12,
   "metadata": {
    "ExecuteTime": {
     "end_time": "2020-10-20T20:21:09.387408Z",
     "start_time": "2020-10-20T20:21:09.214362Z"
    }
   },
   "outputs": [
    {
     "name": "stdout",
     "output_type": "stream",
     "text": [
      "+-------+--------------------+--------------------+\n",
      "|movieId|               title|              genres|\n",
      "+-------+--------------------+--------------------+\n",
      "|      1|    Toy Story (1995)|Adventure|Animati...|\n",
      "|      2|      Jumanji (1995)|Adventure|Childre...|\n",
      "|      3|Grumpier Old Men ...|      Comedy|Romance|\n",
      "|      4|Waiting to Exhale...|Comedy|Drama|Romance|\n",
      "|      5|Father of the Bri...|              Comedy|\n",
      "|      6|         Heat (1995)|Action|Crime|Thri...|\n",
      "|      7|      Sabrina (1995)|      Comedy|Romance|\n",
      "|      8| Tom and Huck (1995)|  Adventure|Children|\n",
      "|      9| Sudden Death (1995)|              Action|\n",
      "|     10|    GoldenEye (1995)|Action|Adventure|...|\n",
      "+-------+--------------------+--------------------+\n",
      "only showing top 10 rows\n",
      "\n"
     ]
    }
   ],
   "source": [
    "movies.show(10)"
   ]
  },
  {
   "cell_type": "markdown",
   "metadata": {},
   "source": [
    "I will save the table to cache, as I will perform some operations on it and caching will improve performance."
   ]
  },
  {
   "cell_type": "code",
   "execution_count": 14,
   "metadata": {
    "ExecuteTime": {
     "end_time": "2020-10-20T20:22:20.640898Z",
     "start_time": "2020-10-20T20:22:20.598897Z"
    }
   },
   "outputs": [
    {
     "data": {
      "text/plain": [
       "DataFrame[movieId: string, title: string, genres: string]"
      ]
     },
     "execution_count": 14,
     "metadata": {},
     "output_type": "execute_result"
    }
   ],
   "source": [
    "movies.persist()"
   ]
  },
  {
   "cell_type": "markdown",
   "metadata": {},
   "source": [
    "Taking a look at datatypes of each column"
   ]
  },
  {
   "cell_type": "code",
   "execution_count": 15,
   "metadata": {
    "ExecuteTime": {
     "end_time": "2020-10-20T20:22:21.965073Z",
     "start_time": "2020-10-20T20:22:21.940249Z"
    }
   },
   "outputs": [
    {
     "data": {
      "text/plain": [
       "[('movieId', 'string'), ('title', 'string'), ('genres', 'string')]"
      ]
     },
     "execution_count": 15,
     "metadata": {},
     "output_type": "execute_result"
    }
   ],
   "source": [
    "movies.dtypes"
   ]
  },
  {
   "cell_type": "markdown",
   "metadata": {},
   "source": [
    "We can see that the column **genres** is of type string and contains all the genres a movie belongs to, seperated by \"|\" \n",
    "\n",
    "I am going to convert it to a **Array of type String** to make further analysis of the dataset easier"
   ]
  },
  {
   "cell_type": "markdown",
   "metadata": {},
   "source": [
    "### User Defined Function\n",
    "\n",
    "Now I will write a function in Python and then register it with spark, so that it can be used with the worker machines.\n",
    "Spark will serialize the function on the driver and transfer it over the network to all executor processes."
   ]
  },
  {
   "cell_type": "code",
   "execution_count": 16,
   "metadata": {
    "ExecuteTime": {
     "end_time": "2020-10-20T20:22:25.933960Z",
     "start_time": "2020-10-20T20:22:25.927963Z"
    }
   },
   "outputs": [],
   "source": [
    "def convert_to_list(genre_string):\n",
    "    # create a list by splitting the string on \"|\"\n",
    "    genre_list = genre_string.split(\"|\")\n",
    "    # remove all unwanted spaces on each element of the list\n",
    "    return [i.strip() for i in genre_list]"
   ]
  },
  {
   "cell_type": "markdown",
   "metadata": {},
   "source": [
    "Now the function is defined, let's **register** it with Spark, first I have to **import** the udf function from **pyspark.sql.functions** the module.\n",
    "\n",
    "While registering we need to mention the expected data type of the output of the function, in this case it is an **Array**."
   ]
  },
  {
   "cell_type": "code",
   "execution_count": 17,
   "metadata": {
    "ExecuteTime": {
     "end_time": "2020-10-20T20:22:28.167170Z",
     "start_time": "2020-10-20T20:22:28.164175Z"
    }
   },
   "outputs": [],
   "source": [
    "from pyspark.sql.functions import udf"
   ]
  },
  {
   "cell_type": "code",
   "execution_count": 18,
   "metadata": {
    "ExecuteTime": {
     "end_time": "2020-10-20T20:22:28.908510Z",
     "start_time": "2020-10-20T20:22:28.903511Z"
    }
   },
   "outputs": [],
   "source": [
    "convert_to_list_udf = udf(convert_to_list, t.ArrayType(t.StringType()))"
   ]
  },
  {
   "cell_type": "markdown",
   "metadata": {},
   "source": [
    "Now the function **convert_to_list** is registered with spark and is called **convert_to_list_udf**\n",
    "\n",
    "\n",
    "I will create a new column called **genres_list** that will contain the list of all genres a movie belongs to"
   ]
  },
  {
   "cell_type": "code",
   "execution_count": 19,
   "metadata": {
    "ExecuteTime": {
     "end_time": "2020-10-20T20:22:30.323177Z",
     "start_time": "2020-10-20T20:22:30.103097Z"
    }
   },
   "outputs": [],
   "source": [
    "movies = movies.withColumn(\"genres_list\",\n",
    "                           convert_to_list_udf(\"genres\")).select(\n",
    "                               \"movieId\", \"title\", \"genres_list\")"
   ]
  },
  {
   "cell_type": "code",
   "execution_count": 20,
   "metadata": {
    "ExecuteTime": {
     "end_time": "2020-10-20T20:22:37.416979Z",
     "start_time": "2020-10-20T20:22:35.379301Z"
    }
   },
   "outputs": [
    {
     "name": "stdout",
     "output_type": "stream",
     "text": [
      "+-------+--------------------+--------------------+\n",
      "|movieId|               title|         genres_list|\n",
      "+-------+--------------------+--------------------+\n",
      "|      1|    Toy Story (1995)|[Adventure, Anima...|\n",
      "|      2|      Jumanji (1995)|[Adventure, Child...|\n",
      "|      3|Grumpier Old Men ...|   [Comedy, Romance]|\n",
      "|      4|Waiting to Exhale...|[Comedy, Drama, R...|\n",
      "|      5|Father of the Bri...|            [Comedy]|\n",
      "|      6|         Heat (1995)|[Action, Crime, T...|\n",
      "|      7|      Sabrina (1995)|   [Comedy, Romance]|\n",
      "|      8| Tom and Huck (1995)|[Adventure, Child...|\n",
      "|      9| Sudden Death (1995)|            [Action]|\n",
      "|     10|    GoldenEye (1995)|[Action, Adventur...|\n",
      "|     11|American Presiden...|[Comedy, Drama, R...|\n",
      "|     12|Dracula: Dead and...|    [Comedy, Horror]|\n",
      "|     13|        Balto (1995)|[Adventure, Anima...|\n",
      "|     14|        Nixon (1995)|             [Drama]|\n",
      "|     15|Cutthroat Island ...|[Action, Adventur...|\n",
      "|     16|       Casino (1995)|      [Crime, Drama]|\n",
      "|     17|Sense and Sensibi...|    [Drama, Romance]|\n",
      "|     18|   Four Rooms (1995)|            [Comedy]|\n",
      "|     19|Ace Ventura: When...|            [Comedy]|\n",
      "|     20|  Money Train (1995)|[Action, Comedy, ...|\n",
      "+-------+--------------------+--------------------+\n",
      "only showing top 20 rows\n",
      "\n"
     ]
    }
   ],
   "source": [
    "movies.show()"
   ]
  },
  {
   "cell_type": "code",
   "execution_count": 21,
   "metadata": {
    "ExecuteTime": {
     "end_time": "2020-10-20T20:22:37.429976Z",
     "start_time": "2020-10-20T20:22:37.419980Z"
    }
   },
   "outputs": [
    {
     "data": {
      "text/plain": [
       "[('movieId', 'string'), ('title', 'string'), ('genres_list', 'array<string>')]"
      ]
     },
     "execution_count": 21,
     "metadata": {},
     "output_type": "execute_result"
    }
   ],
   "source": [
    "movies.dtypes"
   ]
  },
  {
   "cell_type": "markdown",
   "metadata": {},
   "source": [
    "### Explode"
   ]
  },
  {
   "cell_type": "markdown",
   "metadata": {},
   "source": [
    "It would be nice to create a seperate row per genre for each movie that can help with further analysis of the dataset.\n",
    "\n",
    "For that I would use **explode** function from the pyspark.sql.functions module "
   ]
  },
  {
   "cell_type": "code",
   "execution_count": 22,
   "metadata": {
    "ExecuteTime": {
     "end_time": "2020-10-20T20:22:46.561599Z",
     "start_time": "2020-10-20T20:22:46.558605Z"
    }
   },
   "outputs": [],
   "source": [
    "from pyspark.sql.functions import explode"
   ]
  },
  {
   "cell_type": "code",
   "execution_count": 23,
   "metadata": {
    "ExecuteTime": {
     "end_time": "2020-10-20T20:22:48.374477Z",
     "start_time": "2020-10-20T20:22:48.347444Z"
    }
   },
   "outputs": [],
   "source": [
    "movies = movies.withColumn(\"genres_list_exploded\",\n",
    "                           explode(f.col(\"genres_list\"))).drop(\"genres_list\")"
   ]
  },
  {
   "cell_type": "markdown",
   "metadata": {},
   "source": [
    "Let's take a look at the result"
   ]
  },
  {
   "cell_type": "code",
   "execution_count": 24,
   "metadata": {
    "ExecuteTime": {
     "end_time": "2020-10-20T20:22:52.909382Z",
     "start_time": "2020-10-20T20:22:51.967979Z"
    }
   },
   "outputs": [
    {
     "name": "stdout",
     "output_type": "stream",
     "text": [
      "+-------+--------------------+--------------------+\n",
      "|movieId|               title|genres_list_exploded|\n",
      "+-------+--------------------+--------------------+\n",
      "|      1|    Toy Story (1995)|           Adventure|\n",
      "|      1|    Toy Story (1995)|           Animation|\n",
      "|      1|    Toy Story (1995)|            Children|\n",
      "|      1|    Toy Story (1995)|              Comedy|\n",
      "|      1|    Toy Story (1995)|             Fantasy|\n",
      "|      2|      Jumanji (1995)|           Adventure|\n",
      "|      2|      Jumanji (1995)|            Children|\n",
      "|      2|      Jumanji (1995)|             Fantasy|\n",
      "|      3|Grumpier Old Men ...|              Comedy|\n",
      "|      3|Grumpier Old Men ...|             Romance|\n",
      "|      4|Waiting to Exhale...|              Comedy|\n",
      "|      4|Waiting to Exhale...|               Drama|\n",
      "|      4|Waiting to Exhale...|             Romance|\n",
      "|      5|Father of the Bri...|              Comedy|\n",
      "|      6|         Heat (1995)|              Action|\n",
      "|      6|         Heat (1995)|               Crime|\n",
      "|      6|         Heat (1995)|            Thriller|\n",
      "|      7|      Sabrina (1995)|              Comedy|\n",
      "|      7|      Sabrina (1995)|             Romance|\n",
      "|      8| Tom and Huck (1995)|           Adventure|\n",
      "+-------+--------------------+--------------------+\n",
      "only showing top 20 rows\n",
      "\n"
     ]
    }
   ],
   "source": [
    "movies.show()"
   ]
  },
  {
   "cell_type": "markdown",
   "metadata": {},
   "source": [
    "### Join"
   ]
  },
  {
   "cell_type": "markdown",
   "metadata": {},
   "source": [
    "I will be performing an **inner** join between ratings and movies tables by using the common column **\"movieId\"**. \n",
    "\n",
    "Later I will drop the **movieId** column of **movies** table.\n",
    "\n",
    "But first I will repartition the table with column **movieId**\n"
   ]
  },
  {
   "cell_type": "code",
   "execution_count": 25,
   "metadata": {
    "ExecuteTime": {
     "end_time": "2020-10-20T20:22:59.119194Z",
     "start_time": "2020-10-20T20:22:59.103195Z"
    }
   },
   "outputs": [],
   "source": [
    "movies = movies.repartition(\"movieId\")"
   ]
  },
  {
   "cell_type": "code",
   "execution_count": 26,
   "metadata": {
    "ExecuteTime": {
     "end_time": "2020-10-20T20:23:10.069267Z",
     "start_time": "2020-10-20T20:23:06.762019Z"
    }
   },
   "outputs": [
    {
     "name": "stdout",
     "output_type": "stream",
     "text": [
      "+--------------------+--------------------+------+-------+------+-------------------+\n",
      "|               title|genres_list_exploded|userId|movieId|rating|          timestamp|\n",
      "+--------------------+--------------------+------+-------+------+-------------------+\n",
      "| Pulp Fiction (1994)|            Thriller|     1|    296|   5.0|2006-05-17 17:34:04|\n",
      "| Pulp Fiction (1994)|               Drama|     1|    296|   5.0|2006-05-17 17:34:04|\n",
      "| Pulp Fiction (1994)|               Crime|     1|    296|   5.0|2006-05-17 17:34:04|\n",
      "| Pulp Fiction (1994)|              Comedy|     1|    296|   5.0|2006-05-17 17:34:04|\n",
      "|Three Colors: Red...|               Drama|     1|    306|   3.5|2006-05-17 14:26:57|\n",
      "|Three Colors: Blu...|               Drama|     1|    307|   5.0|2006-05-17 14:27:08|\n",
      "|  Underground (1995)|                 War|     1|    665|   5.0|2006-05-17 17:13:40|\n",
      "|  Underground (1995)|               Drama|     1|    665|   5.0|2006-05-17 17:13:40|\n",
      "|  Underground (1995)|              Comedy|     1|    665|   5.0|2006-05-17 17:13:40|\n",
      "|Singin' in the Ra...|             Romance|     1|    899|   3.5|2006-05-17 14:21:50|\n",
      "|Singin' in the Ra...|             Musical|     1|    899|   3.5|2006-05-17 14:21:50|\n",
      "|Singin' in the Ra...|              Comedy|     1|    899|   3.5|2006-05-17 14:21:50|\n",
      "|Dirty Dancing (1987)|             Romance|     1|   1088|   4.0|2006-05-17 14:21:35|\n",
      "|Dirty Dancing (1987)|             Musical|     1|   1088|   4.0|2006-05-17 14:21:35|\n",
      "|Dirty Dancing (1987)|               Drama|     1|   1088|   4.0|2006-05-17 14:21:35|\n",
      "| Delicatessen (1991)|             Romance|     1|   1175|   3.5|2006-05-17 14:27:06|\n",
      "| Delicatessen (1991)|               Drama|     1|   1175|   3.5|2006-05-17 14:27:06|\n",
      "| Delicatessen (1991)|              Comedy|     1|   1175|   3.5|2006-05-17 14:27:06|\n",
      "|          Ran (1985)|                 War|     1|   1217|   3.5|2006-05-17 17:05:26|\n",
      "|          Ran (1985)|               Drama|     1|   1217|   3.5|2006-05-17 17:05:26|\n",
      "+--------------------+--------------------+------+-------+------+-------------------+\n",
      "only showing top 20 rows\n",
      "\n"
     ]
    }
   ],
   "source": [
    "joined_movies_ratings = movies.join(ratings,\n",
    "                                    (movies.movieId == ratings.movieId),\n",
    "                                    \"inner\").drop(movies[\"movieId\"])\n",
    "\n",
    "joined_movies_ratings.show()"
   ]
  },
  {
   "cell_type": "markdown",
   "metadata": {},
   "source": [
    "### Aggregation\n",
    "\n",
    "Now I will calculate the total number of ratings for each genre and average rating for each genre.\n",
    "\n",
    "But before doing that I will drop **movies** table from the **cache** and I will save the joined table to the cache. All this to boost performance."
   ]
  },
  {
   "cell_type": "code",
   "execution_count": 27,
   "metadata": {
    "ExecuteTime": {
     "end_time": "2020-10-20T20:23:15.793108Z",
     "start_time": "2020-10-20T20:23:15.685114Z"
    }
   },
   "outputs": [
    {
     "data": {
      "text/plain": [
       "DataFrame[title: string, genres_list_exploded: string, userId: string, movieId: string, rating: float, timestamp: string]"
      ]
     },
     "execution_count": 27,
     "metadata": {},
     "output_type": "execute_result"
    }
   ],
   "source": [
    "movies.unpersist()\n",
    "\n",
    "joined_movies_ratings.persist()"
   ]
  },
  {
   "cell_type": "markdown",
   "metadata": {},
   "source": [
    "I will aggregate by the column that contains the genre of a movie and **calculate** number of ratings per genre and **average** rating received by a genre"
   ]
  },
  {
   "cell_type": "code",
   "execution_count": 28,
   "metadata": {
    "ExecuteTime": {
     "end_time": "2020-10-20T20:26:10.048777Z",
     "start_time": "2020-10-20T20:23:18.293337Z"
    }
   },
   "outputs": [
    {
     "name": "stdout",
     "output_type": "stream",
     "text": [
      "+--------------------+----------------------+-----------------------+\n",
      "|genres_list_exploded|total_ratings_received|average_rating_received|\n",
      "+--------------------+----------------------+-----------------------+\n",
      "|               Crime|               4190259|      3.685043693003225|\n",
      "|             Romance|               4497291|     3.5427121571630567|\n",
      "|            Thriller|               6763272|     3.5229643285084498|\n",
      "|           Adventure|               5832424|      3.517444633654892|\n",
      "|               Drama|              10962833|      3.677184674800756|\n",
      "|                 War|               1267346|     3.7914657875591984|\n",
      "|         Documentary|                322449|     3.7052805249822454|\n",
      "|             Fantasy|               2831585|        3.5115889157486|\n",
      "|             Mystery|               2010995|      3.670169244577933|\n",
      "|             Musical|                964252|      3.554715987107105|\n",
      "|           Animation|               1630987|      3.614946348438093|\n",
      "|           Film-Noir|                247227|     3.9257281769386028|\n",
      "|  (no genres listed)|                 26627|      3.326379239118188|\n",
      "|                IMAX|               1063279|     3.6037121959523324|\n",
      "|              Horror|               1892183|     3.2935633075659174|\n",
      "|             Western|                483731|     3.5857553061515595|\n",
      "|              Comedy|               8926230|     3.4239925478057365|\n",
      "|            Children|               2124258|     3.4325074920278045|\n",
      "|              Action|               7446918|     3.4665917497681593|\n",
      "|              Sci-Fi|               4325740|     3.4781433928067798|\n",
      "+--------------------+----------------------+-----------------------+\n",
      "\n"
     ]
    }
   ],
   "source": [
    "agg_movies_ratings = joined_movies_ratings.groupBy(\"genres_list_exploded\").agg(\n",
    "    f.count(\"rating\").alias(\"total_ratings_received\"),\n",
    "    f.avg(\"rating\").alias(\"average_rating_received\"))\n",
    "\n",
    "agg_movies_ratings.show()"
   ]
  },
  {
   "cell_type": "markdown",
   "metadata": {},
   "source": [
    "### Visualization by using Pandas and Plotly"
   ]
  },
  {
   "cell_type": "markdown",
   "metadata": {},
   "source": [
    "Saving it as Pandas Dataframe to be able to visualize"
   ]
  },
  {
   "cell_type": "code",
   "execution_count": 29,
   "metadata": {
    "ExecuteTime": {
     "end_time": "2020-10-20T20:26:20.607712Z",
     "start_time": "2020-10-20T20:26:10.051778Z"
    }
   },
   "outputs": [],
   "source": [
    "agg_movies_ratings_pandas = agg_movies_ratings.toPandas()"
   ]
  },
  {
   "cell_type": "code",
   "execution_count": 30,
   "metadata": {
    "ExecuteTime": {
     "end_time": "2020-10-20T20:26:20.680069Z",
     "start_time": "2020-10-20T20:26:20.607712Z"
    }
   },
   "outputs": [
    {
     "data": {
      "text/html": [
       "<div>\n",
       "<style scoped>\n",
       "    .dataframe tbody tr th:only-of-type {\n",
       "        vertical-align: middle;\n",
       "    }\n",
       "\n",
       "    .dataframe tbody tr th {\n",
       "        vertical-align: top;\n",
       "    }\n",
       "\n",
       "    .dataframe thead th {\n",
       "        text-align: right;\n",
       "    }\n",
       "</style>\n",
       "<table border=\"1\" class=\"dataframe\">\n",
       "  <thead>\n",
       "    <tr style=\"text-align: right;\">\n",
       "      <th></th>\n",
       "      <th>genres_list_exploded</th>\n",
       "      <th>total_ratings_received</th>\n",
       "      <th>average_rating_received</th>\n",
       "    </tr>\n",
       "  </thead>\n",
       "  <tbody>\n",
       "    <tr>\n",
       "      <th>0</th>\n",
       "      <td>Crime</td>\n",
       "      <td>4190259</td>\n",
       "      <td>3.685044</td>\n",
       "    </tr>\n",
       "    <tr>\n",
       "      <th>1</th>\n",
       "      <td>Romance</td>\n",
       "      <td>4497291</td>\n",
       "      <td>3.542712</td>\n",
       "    </tr>\n",
       "    <tr>\n",
       "      <th>2</th>\n",
       "      <td>Thriller</td>\n",
       "      <td>6763272</td>\n",
       "      <td>3.522964</td>\n",
       "    </tr>\n",
       "    <tr>\n",
       "      <th>3</th>\n",
       "      <td>Adventure</td>\n",
       "      <td>5832424</td>\n",
       "      <td>3.517445</td>\n",
       "    </tr>\n",
       "    <tr>\n",
       "      <th>4</th>\n",
       "      <td>Drama</td>\n",
       "      <td>10962833</td>\n",
       "      <td>3.677185</td>\n",
       "    </tr>\n",
       "  </tbody>\n",
       "</table>\n",
       "</div>"
      ],
      "text/plain": [
       "  genres_list_exploded  total_ratings_received  average_rating_received\n",
       "0                Crime                 4190259                 3.685044\n",
       "1              Romance                 4497291                 3.542712\n",
       "2             Thriller                 6763272                 3.522964\n",
       "3            Adventure                 5832424                 3.517445\n",
       "4                Drama                10962833                 3.677185"
      ]
     },
     "execution_count": 30,
     "metadata": {},
     "output_type": "execute_result"
    }
   ],
   "source": [
    "agg_movies_ratings_pandas.head()"
   ]
  },
  {
   "cell_type": "markdown",
   "metadata": {},
   "source": [
    "**Importing Plotly express and pandas**"
   ]
  },
  {
   "cell_type": "code",
   "execution_count": 31,
   "metadata": {
    "ExecuteTime": {
     "end_time": "2020-10-20T20:26:25.341799Z",
     "start_time": "2020-10-20T20:26:20.683067Z"
    }
   },
   "outputs": [],
   "source": [
    "import plotly.express as px\n",
    "import pandas as pd"
   ]
  },
  {
   "cell_type": "markdown",
   "metadata": {},
   "source": [
    "#### Horizontal Bar plot"
   ]
  },
  {
   "cell_type": "markdown",
   "metadata": {},
   "source": [
    "Plotting a horizontal bar chart depicting **total number of ratings** received by each genre\n",
    "\n",
    "I will be using **px.bar** function to generate the plot"
   ]
  },
  {
   "cell_type": "code",
   "execution_count": 32,
   "metadata": {
    "ExecuteTime": {
     "end_time": "2020-10-20T20:27:01.939085Z",
     "start_time": "2020-10-20T20:26:25.341799Z"
    }
   },
   "outputs": [],
   "source": [
    "fig = px.bar(agg_movies_ratings_pandas.sort_values(\"total_ratings_received\"),\n",
    "             x=\"total_ratings_received\",\n",
    "             y=\"genres_list_exploded\",\n",
    "             labels={\n",
    "                 \"total_ratings_received\": \"Total Ratings\",\n",
    "                 \"genres_list_exploded\": \"genre\"\n",
    "             },\n",
    "             orientation='h',\n",
    "             title='Total ratings per Genre')\n",
    "fig.update_layout(\n",
    "    autosize=False,\n",
    "    width=800,\n",
    "    height=800,\n",
    ")\n",
    "fig.write_image(\"ratings_genre_total.jpeg\")\n",
    "#fig.show()"
   ]
  },
  {
   "attachments": {
    "ratings_genre_total.jpeg": {
     "image/jpeg": "[encoded data removed]"
    }
   },
   "cell_type": "markdown",
   "metadata": {},
   "source": [
    "![ratings_genre_total.jpeg](attachment:ratings_genre_total.jpeg)"
   ]
  },
  {
   "cell_type": "markdown",
   "metadata": {},
   "source": [
    "The genre **Drama** received the most ratings followed by **Comedy**"
   ]
  },
  {
   "cell_type": "markdown",
   "metadata": {},
   "source": [
    "Plotting a horizontal bar chart depicting **average ratings** received by each genre"
   ]
  },
  {
   "cell_type": "code",
   "execution_count": 33,
   "metadata": {
    "ExecuteTime": {
     "end_time": "2020-10-20T20:27:02.099085Z",
     "start_time": "2020-10-20T20:27:01.941083Z"
    }
   },
   "outputs": [],
   "source": [
    "fig = px.bar(agg_movies_ratings_pandas.sort_values(\"average_rating_received\"),\n",
    "             x=\"average_rating_received\",\n",
    "             y=\"genres_list_exploded\",\n",
    "             labels={\n",
    "                 \"average_rating_received\": \"Average Rating\",\n",
    "                 \"genres_list_exploded\": \"genre\"\n",
    "             },\n",
    "             orientation='h',\n",
    "             title='Average rating per Genre')\n",
    "fig.update_layout(\n",
    "    autosize=False,\n",
    "    width=800,\n",
    "    height=800,\n",
    ")\n",
    "# setting the range of x axis to emphasize the difference between different genres\n",
    "fig.update_layout(xaxis=dict(range=[2.5, 4.5]))\n",
    "fig.write_image(\"ratings_genre_average.jpeg\")\n",
    "#fig.show()"
   ]
  },
  {
   "attachments": {
    "ratings_genre_average.jpeg": {
     "image/jpeg": "[encoded data removed]"
    }
   },
   "cell_type": "markdown",
   "metadata": {},
   "source": [
    "![ratings_genre_average.jpeg](attachment:ratings_genre_average.jpeg)"
   ]
  },
  {
   "cell_type": "markdown",
   "metadata": {},
   "source": [
    "Horror received the lowest rating with 3.29\n",
    "\n",
    "hard to impress Horror movies fans? "
   ]
  },
  {
   "cell_type": "markdown",
   "metadata": {
    "ExecuteTime": {
     "end_time": "2020-10-18T11:13:30.608045Z",
     "start_time": "2020-10-18T11:13:30.604047Z"
    }
   },
   "source": [
    "#### Box plot"
   ]
  },
  {
   "cell_type": "markdown",
   "metadata": {},
   "source": [
    "I am going to analyze the distribution of ratings **(especially identifying outliers)** received by horror movies by using box plot"
   ]
  },
  {
   "cell_type": "code",
   "execution_count": 34,
   "metadata": {
    "ExecuteTime": {
     "end_time": "2020-10-20T20:27:27.310865Z",
     "start_time": "2020-10-20T20:27:02.101086Z"
    }
   },
   "outputs": [],
   "source": [
    "horror = joined_movies_ratings.where(\n",
    "    f.col(\"genres_list_exploded\") == \"Horror\").toPandas()"
   ]
  },
  {
   "cell_type": "code",
   "execution_count": 35,
   "metadata": {
    "ExecuteTime": {
     "end_time": "2020-10-20T20:27:27.340873Z",
     "start_time": "2020-10-20T20:27:27.314866Z"
    }
   },
   "outputs": [
    {
     "data": {
      "text/html": [
       "<div>\n",
       "<style scoped>\n",
       "    .dataframe tbody tr th:only-of-type {\n",
       "        vertical-align: middle;\n",
       "    }\n",
       "\n",
       "    .dataframe tbody tr th {\n",
       "        vertical-align: top;\n",
       "    }\n",
       "\n",
       "    .dataframe thead th {\n",
       "        text-align: right;\n",
       "    }\n",
       "</style>\n",
       "<table border=\"1\" class=\"dataframe\">\n",
       "  <thead>\n",
       "    <tr style=\"text-align: right;\">\n",
       "      <th></th>\n",
       "      <th>title</th>\n",
       "      <th>genres_list_exploded</th>\n",
       "      <th>userId</th>\n",
       "      <th>movieId</th>\n",
       "      <th>rating</th>\n",
       "      <th>timestamp</th>\n",
       "    </tr>\n",
       "  </thead>\n",
       "  <tbody>\n",
       "    <tr>\n",
       "      <th>0</th>\n",
       "      <td>Hour of the Wolf (Vargtimmen) (1968)</td>\n",
       "      <td>Horror</td>\n",
       "      <td>1</td>\n",
       "      <td>8405</td>\n",
       "      <td>3.5</td>\n",
       "      <td>2006-05-17 17:01:35</td>\n",
       "    </tr>\n",
       "    <tr>\n",
       "      <th>1</th>\n",
       "      <td>Mummy, The (1999)</td>\n",
       "      <td>Horror</td>\n",
       "      <td>2</td>\n",
       "      <td>2617</td>\n",
       "      <td>4.0</td>\n",
       "      <td>2006-03-03 20:54:34</td>\n",
       "    </tr>\n",
       "    <tr>\n",
       "      <th>2</th>\n",
       "      <td>Sixth Sense, The (1999)</td>\n",
       "      <td>Horror</td>\n",
       "      <td>2</td>\n",
       "      <td>2762</td>\n",
       "      <td>4.0</td>\n",
       "      <td>2006-03-03 20:57:03</td>\n",
       "    </tr>\n",
       "    <tr>\n",
       "      <th>3</th>\n",
       "      <td>Others, The (2001)</td>\n",
       "      <td>Horror</td>\n",
       "      <td>2</td>\n",
       "      <td>4720</td>\n",
       "      <td>4.0</td>\n",
       "      <td>2006-03-03 21:14:10</td>\n",
       "    </tr>\n",
       "    <tr>\n",
       "      <th>4</th>\n",
       "      <td>Silence of the Lambs, The (1991)</td>\n",
       "      <td>Horror</td>\n",
       "      <td>3</td>\n",
       "      <td>593</td>\n",
       "      <td>4.0</td>\n",
       "      <td>2015-08-13 15:23:23</td>\n",
       "    </tr>\n",
       "  </tbody>\n",
       "</table>\n",
       "</div>"
      ],
      "text/plain": [
       "                                  title genres_list_exploded userId movieId  \\\n",
       "0  Hour of the Wolf (Vargtimmen) (1968)               Horror      1    8405   \n",
       "1                     Mummy, The (1999)               Horror      2    2617   \n",
       "2               Sixth Sense, The (1999)               Horror      2    2762   \n",
       "3                    Others, The (2001)               Horror      2    4720   \n",
       "4      Silence of the Lambs, The (1991)               Horror      3     593   \n",
       "\n",
       "   rating            timestamp  \n",
       "0     3.5  2006-05-17 17:01:35  \n",
       "1     4.0  2006-03-03 20:54:34  \n",
       "2     4.0  2006-03-03 20:57:03  \n",
       "3     4.0  2006-03-03 21:14:10  \n",
       "4     4.0  2015-08-13 15:23:23  "
      ]
     },
     "execution_count": 35,
     "metadata": {},
     "output_type": "execute_result"
    }
   ],
   "source": [
    "horror.head()"
   ]
  },
  {
   "cell_type": "markdown",
   "metadata": {},
   "source": [
    "I will be using the **px.box** function to generate the box plot"
   ]
  },
  {
   "cell_type": "code",
   "execution_count": 36,
   "metadata": {
    "ExecuteTime": {
     "end_time": "2020-10-20T20:27:47.171365Z",
     "start_time": "2020-10-20T20:27:27.345869Z"
    }
   },
   "outputs": [],
   "source": [
    "fig = px.box(horror,\n",
    "             x=\"genres_list_exploded\",\n",
    "             y=\"rating\",\n",
    "             labels={\n",
    "                 \"rating\": \"Rating\",\n",
    "                 \"genres_list_exploded\": \"genre\"\n",
    "             },\n",
    "             notched=True)\n",
    "fig.update_layout(\n",
    "    autosize=False,\n",
    "    width=800,\n",
    "    height=400,\n",
    ")\n",
    "fig.write_image(\"box_plot_horror.jpeg\")\n",
    "#fig.show()"
   ]
  },
  {
   "attachments": {
    "box_plot_horror.jpeg": {
     "image/jpeg": "[encoded data removed]"
    }
   },
   "cell_type": "markdown",
   "metadata": {},
   "source": [
    "![box_plot_horror.jpeg](attachment:box_plot_horror.jpeg)"
   ]
  },
  {
   "cell_type": "markdown",
   "metadata": {
    "ExecuteTime": {
     "end_time": "2020-10-18T11:22:35.528258Z",
     "start_time": "2020-10-18T11:22:35.522257Z"
    }
   },
   "source": [
    "50% of the ratings received by horror movies are between **2.5 and 4**"
   ]
  },
  {
   "cell_type": "markdown",
   "metadata": {},
   "source": [
    "#### histogram"
   ]
  },
  {
   "cell_type": "markdown",
   "metadata": {},
   "source": [
    "Another way of analyzing the distribution of ratings is by using the histogram"
   ]
  },
  {
   "cell_type": "code",
   "execution_count": 37,
   "metadata": {
    "ExecuteTime": {
     "end_time": "2020-10-20T20:27:57.136762Z",
     "start_time": "2020-10-20T20:27:47.171365Z"
    }
   },
   "outputs": [],
   "source": [
    "fig = px.histogram(horror, x=\"rating\")\n",
    "fig.update_layout(\n",
    "    autosize=False,\n",
    "    width=1000,\n",
    "    height=400,\n",
    ")\n",
    "fig.write_image(\"hist_plot_horror.jpeg\")\n",
    "#fig.show()"
   ]
  },
  {
   "attachments": {
    "hist_plot_horror.jpeg": {
     "image/jpeg": "[encoded data removed]"
    }
   },
   "cell_type": "markdown",
   "metadata": {},
   "source": [
    "![hist_plot_horror.jpeg](attachment:hist_plot_horror.jpeg)"
   ]
  },
  {
   "cell_type": "markdown",
   "metadata": {},
   "source": [
    "Most of the fans rated horror movies between 3 and 4. Few rated lower or higher"
   ]
  },
  {
   "cell_type": "markdown",
   "metadata": {},
   "source": [
    "### Windows Functions (Ranking)"
   ]
  },
  {
   "cell_type": "markdown",
   "metadata": {},
   "source": [
    "Let's find the Top **two most rated genres** for each and every year in the given data set?\n",
    "\n",
    "For this I will be making use of **window functions**\n",
    "\n",
    "*A window function calculates a return value for every input row of a table based on a group of rows, called a frame.*\n",
    "\n",
    "I will be calculating the number of ratings a genre received in a given year, rank them and keep the top two genres.\n",
    "\n",
    "I begin this process by extracting year from the timestamp column.\n",
    "\n",
    "For that I will need to import **datetime** library"
   ]
  },
  {
   "cell_type": "code",
   "execution_count": 38,
   "metadata": {
    "ExecuteTime": {
     "end_time": "2020-10-20T20:27:57.142764Z",
     "start_time": "2020-10-20T20:27:57.138764Z"
    }
   },
   "outputs": [],
   "source": [
    "import datetime"
   ]
  },
  {
   "cell_type": "markdown",
   "metadata": {},
   "source": [
    "Writing a function to extract year from the datetime column"
   ]
  },
  {
   "cell_type": "code",
   "execution_count": 39,
   "metadata": {
    "ExecuteTime": {
     "end_time": "2020-10-20T20:27:57.308651Z",
     "start_time": "2020-10-20T20:27:57.145766Z"
    }
   },
   "outputs": [],
   "source": [
    "def get_year(x):\n",
    "    return datetime.datetime.strptime(x, '%Y-%m-%d %H:%M:%S').year"
   ]
  },
  {
   "cell_type": "markdown",
   "metadata": {},
   "source": [
    "registering **get_year** function as UDF"
   ]
  },
  {
   "cell_type": "code",
   "execution_count": 40,
   "metadata": {
    "ExecuteTime": {
     "end_time": "2020-10-20T20:27:57.429811Z",
     "start_time": "2020-10-20T20:27:57.310648Z"
    }
   },
   "outputs": [],
   "source": [
    "get_year_udf = udf(get_year, t.IntegerType())"
   ]
  },
  {
   "cell_type": "markdown",
   "metadata": {},
   "source": [
    "Creating a new column called **year** "
   ]
  },
  {
   "cell_type": "code",
   "execution_count": 41,
   "metadata": {
    "ExecuteTime": {
     "end_time": "2020-10-20T20:27:57.559812Z",
     "start_time": "2020-10-20T20:27:57.431808Z"
    }
   },
   "outputs": [],
   "source": [
    "joined_movies_ratings = joined_movies_ratings.withColumn(\n",
    "    \"year\", get_year_udf(f.col(\"timestamp\")))"
   ]
  },
  {
   "cell_type": "markdown",
   "metadata": {},
   "source": [
    "Creating a window which would be partitioned by year and ordered by total votes received by a genre in a year"
   ]
  },
  {
   "cell_type": "code",
   "execution_count": 42,
   "metadata": {
    "ExecuteTime": {
     "end_time": "2020-10-20T20:27:57.628811Z",
     "start_time": "2020-10-20T20:27:57.562813Z"
    }
   },
   "outputs": [],
   "source": [
    "from pyspark.sql.window import Window"
   ]
  },
  {
   "cell_type": "code",
   "execution_count": 43,
   "metadata": {
    "ExecuteTime": {
     "end_time": "2020-10-20T20:27:57.764843Z",
     "start_time": "2020-10-20T20:27:57.632812Z"
    }
   },
   "outputs": [],
   "source": [
    "windowSpec = Window.partitionBy(\"year\").orderBy(\n",
    "    f.desc(\"total_ratings_received\"))"
   ]
  },
  {
   "cell_type": "markdown",
   "metadata": {},
   "source": [
    "**Grouping** the joined_movies_ratings dataframe to calculate **total number of ratings** received by a genre in a year\n",
    "\n",
    "later calculating **rank** of each genre, such that the genre that gets the most ratings in a year would be ranked first, for this I am using **rank() function** from pyspark.sql.functions module over the window defined in the above cell.\n",
    "\n",
    "Later I am filtering and keeping only those genre that obtained the first or the second rank."
   ]
  },
  {
   "cell_type": "code",
   "execution_count": 44,
   "metadata": {
    "ExecuteTime": {
     "end_time": "2020-10-20T20:27:58.095615Z",
     "start_time": "2020-10-20T20:27:57.766867Z"
    }
   },
   "outputs": [],
   "source": [
    "most_rated_genre_year = joined_movies_ratings.groupBy(\n",
    "    \"year\", \"genres_list_exploded\").agg(\n",
    "        f.sum(\"rating\").alias(\"total_ratings_received\")).withColumn(\n",
    "            \"rank\",\n",
    "            f.rank().over(windowSpec)).where((f.col(\"rank\") == 1)\n",
    "                                             | (f.col(\"rank\") == 2))"
   ]
  },
  {
   "cell_type": "markdown",
   "metadata": {},
   "source": [
    "Showing **top two most rated** genres per year, ordered by year"
   ]
  },
  {
   "cell_type": "code",
   "execution_count": 45,
   "metadata": {
    "ExecuteTime": {
     "end_time": "2020-10-20T20:38:26.924389Z",
     "start_time": "2020-10-20T20:27:58.097610Z"
    }
   },
   "outputs": [
    {
     "name": "stdout",
     "output_type": "stream",
     "text": [
      "+----+--------------------+----------------------+----+\n",
      "|year|genres_list_exploded|total_ratings_received|rank|\n",
      "+----+--------------------+----------------------+----+\n",
      "|1995|            Thriller|                   8.0|   1|\n",
      "|1995|              Comedy|                   6.0|   2|\n",
      "|1995|               Crime|                   6.0|   2|\n",
      "|1996|               Drama|             2280913.0|   1|\n",
      "|1996|              Comedy|             1824731.0|   2|\n",
      "|1997|               Drama|              986834.0|   1|\n",
      "|1997|              Comedy|              797087.0|   2|\n",
      "|1998|               Drama|              449902.0|   1|\n",
      "|1998|              Comedy|              331246.0|   2|\n",
      "|1999|               Drama|             1867681.0|   1|\n",
      "|1999|              Comedy|             1456820.0|   2|\n",
      "|2000|               Drama|             2912848.0|   1|\n",
      "|2000|              Comedy|             2333664.0|   2|\n",
      "|2001|               Drama|             1711481.0|   1|\n",
      "|2001|              Comedy|             1435035.0|   2|\n",
      "|2002|               Drama|             1216604.0|   1|\n",
      "|2002|              Comedy|             1037198.0|   2|\n",
      "|2003|               Drama|             1455396.5|   1|\n",
      "|2003|              Comedy|             1249882.0|   2|\n",
      "|2004|               Drama|             1608956.5|   1|\n",
      "|2004|              Comedy|             1398842.0|   2|\n",
      "|2005|               Drama|             2473958.5|   1|\n",
      "|2005|              Comedy|             2120749.5|   2|\n",
      "|2006|               Drama|             1642736.5|   1|\n",
      "|2006|              Comedy|             1324003.0|   2|\n",
      "|2007|               Drama|             1506191.0|   1|\n",
      "|2007|              Comedy|             1136906.0|   2|\n",
      "|2008|               Drama|             1670290.0|   1|\n",
      "|2008|              Comedy|             1243836.0|   2|\n",
      "|2009|               Drama|             1324562.0|   1|\n",
      "|2009|              Comedy|              983064.5|   2|\n",
      "|2010|               Drama|             1304085.0|   1|\n",
      "|2010|              Comedy|              953500.5|   2|\n",
      "|2011|               Drama|             1134942.5|   1|\n",
      "|2011|              Comedy|              808626.5|   2|\n",
      "|2012|               Drama|             1108509.5|   1|\n",
      "|2012|              Comedy|              755515.0|   2|\n",
      "|2013|               Drama|              918203.0|   1|\n",
      "|2013|              Comedy|              589941.5|   2|\n",
      "|2014|               Drama|              845446.5|   1|\n",
      "|2014|              Comedy|              534983.5|   2|\n",
      "|2015|               Drama|             2682416.5|   1|\n",
      "|2015|              Action|             1923627.0|   2|\n",
      "|2016|               Drama|             2740481.0|   1|\n",
      "|2016|              Action|             2126815.0|   2|\n",
      "|2017|               Drama|             2603601.0|   1|\n",
      "|2017|              Action|             2008115.0|   2|\n",
      "|2018|               Drama|             2016160.0|   1|\n",
      "|2018|              Action|             1549431.5|   2|\n",
      "|2019|               Drama|             1850162.5|   1|\n",
      "+----+--------------------+----------------------+----+\n",
      "only showing top 50 rows\n",
      "\n"
     ]
    }
   ],
   "source": [
    "most_rated_genre_year.orderBy(\"year\", \"rank\").show(50)"
   ]
  },
  {
   "cell_type": "markdown",
   "metadata": {},
   "source": [
    "**Drama** received the most ratings every single year followed by sometimes **comedy** and sometimes **action** "
   ]
  },
  {
   "cell_type": "code",
   "execution_count": 46,
   "metadata": {
    "ExecuteTime": {
     "end_time": "2020-10-20T20:38:42.974291Z",
     "start_time": "2020-10-20T20:38:41.994565Z"
    }
   },
   "outputs": [],
   "source": [
    "spark.stop()"
   ]
  },
  {
   "cell_type": "markdown",
   "metadata": {},
   "source": [
    "Stopping the spark session"
   ]
  }
 ],
 "metadata": {
  "kernelspec": {
   "display_name": "Python 3",
   "language": "python",
   "name": "python3"
  },
  "toc": {
   "base_numbering": 1,
   "nav_menu": {},
   "number_sections": true,
   "sideBar": true,
   "skip_h1_title": false,
   "title_cell": "Table of Contents",
   "title_sidebar": "Contents",
   "toc_cell": false,
   "toc_position": {},
   "toc_section_display": true,
   "toc_window_display": false
  }
 },
 "nbformat": 4,
 "nbformat_minor": 4
}
