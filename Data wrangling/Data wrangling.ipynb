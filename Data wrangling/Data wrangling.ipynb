{
 "cells": [
  {
   "cell_type": "markdown",
   "metadata": {},
   "source": [
    "# In this notebook I will perform some Datawrangling using Python API of Spark"
   ]
  },
  {
   "cell_type": "markdown",
   "metadata": {},
   "source": [
    "**The data is obtained from MovieLens can be found here https://grouplens.org/datasets/movielens/25m/**"
   ]
  },
  {
   "cell_type": "markdown",
   "metadata": {},
   "source": [
    "*Import findspark* to run spark on local mode in windows"
   ]
  },
  {
   "cell_type": "code",
   "execution_count": 1,
   "metadata": {},
   "outputs": [],
   "source": [
    "import findspark"
   ]
  },
  {
   "cell_type": "code",
   "execution_count": 2,
   "metadata": {},
   "outputs": [],
   "source": [
    "findspark.init()"
   ]
  },
  {
   "cell_type": "markdown",
   "metadata": {},
   "source": [
    "Import Spark Session from Pyspark.sql to create well a Spark Session, I will also be enabling hive support to read and write tables to hive"
   ]
  },
  {
   "cell_type": "code",
   "execution_count": 3,
   "metadata": {},
   "outputs": [],
   "source": [
    "from pyspark.sql import SparkSession"
   ]
  },
  {
   "cell_type": "code",
   "execution_count": 4,
   "metadata": {},
   "outputs": [],
   "source": [
    "spark = SparkSession.builder.enableHiveSupport().appName(\"Movie lens data wrangling\").getOrCreate()"
   ]
  },
  {
   "cell_type": "markdown",
   "metadata": {},
   "source": [
    "Now that we have the spark session up and running we can read the files, the files are in csv format (comma separated) where comma are escaped in double quotes. The files are encoded in UTF-8."
   ]
  },
  {
   "cell_type": "code",
   "execution_count": 5,
   "metadata": {},
   "outputs": [
    {
     "name": "stdout",
     "output_type": "stream",
     "text": [
      " El volumen de la unidad C es Windows\n",
      " El n£mero de serie del volumen es: 55D7-D790\n",
      "\n",
      " Directorio de C:\\Users\\Usuario\\Desktop\\Pyspark-demo\\Data wrangling\\movielens\\ml-25m\n",
      "\n",
      "12/10/2020  12:23    <DIR>          .\n",
      "12/10/2020  12:23    <DIR>          ..\n",
      "12/10/2020  12:23       435.164.157 genome-scores.csv\n",
      "12/10/2020  12:23            18.103 genome-tags.csv\n",
      "12/10/2020  12:23         1.368.578 links.csv\n",
      "12/10/2020  12:23         3.038.099 movies.csv\n",
      "12/10/2020  12:23       678.260.987 ratings.csv\n",
      "12/10/2020  12:23            10.460 README.txt\n",
      "12/10/2020  12:23        38.810.332 tags.csv\n",
      "               7 archivos  1.156.670.716 bytes\n",
      "               2 dirs  786.962.444.288 bytes libres\n"
     ]
    }
   ],
   "source": [
    "! dir movielens\\ml-25m"
   ]
  },
  {
   "cell_type": "markdown",
   "metadata": {},
   "source": [
    "**We can see that we have 6 csv files at our disposal**"
   ]
  },
  {
   "cell_type": "markdown",
   "metadata": {},
   "source": [
    "### Section 1 - ratings and movies\n",
    "\n",
    "which movies have the best average ratings and how many people rated them?"
   ]
  },
  {
   "cell_type": "markdown",
   "metadata": {},
   "source": [
    "I am going to start by reading ratings.csv "
   ]
  },
  {
   "cell_type": "code",
   "execution_count": 6,
   "metadata": {},
   "outputs": [],
   "source": [
    "ratings = spark.read.format(\"csv\").option(\"delimiter\", \",\"\n",
    "                                         ).option(\"ESCAPE quote\", '\"'\n",
    "                                                 ). option(\"header\",True\n",
    "                                                          ).option(\"encoding\", \"UTF-8\").load(\"movielens/ml-25m/ratings.csv\"\n",
    "                                                                                            ).coalesce(4)"
   ]
  },
  {
   "cell_type": "markdown",
   "metadata": {},
   "source": [
    "I am going to partition the file into 4 chunks to improve performance (pay attention the last chained command **coalesce**), but when you are working on a cluster partition the file into number of nodes that you have in your cluster"
   ]
  },
  {
   "cell_type": "markdown",
   "metadata": {},
   "source": [
    "Lets take a look at its first few rows"
   ]
  },
  {
   "cell_type": "code",
   "execution_count": 7,
   "metadata": {},
   "outputs": [
    {
     "data": {
      "text/plain": [
       "4"
      ]
     },
     "execution_count": 7,
     "metadata": {},
     "output_type": "execute_result"
    }
   ],
   "source": [
    "ratings.rdd.getNumPartitions()"
   ]
  },
  {
   "cell_type": "code",
   "execution_count": 8,
   "metadata": {},
   "outputs": [
    {
     "name": "stdout",
     "output_type": "stream",
     "text": [
      "+------+-------+------+----------+\n",
      "|userId|movieId|rating| timestamp|\n",
      "+------+-------+------+----------+\n",
      "|     1|    296|   5.0|1147880044|\n",
      "|     1|    306|   3.5|1147868817|\n",
      "|     1|    307|   5.0|1147868828|\n",
      "|     1|    665|   5.0|1147878820|\n",
      "|     1|    899|   3.5|1147868510|\n",
      "|     1|   1088|   4.0|1147868495|\n",
      "|     1|   1175|   3.5|1147868826|\n",
      "|     1|   1217|   3.5|1147878326|\n",
      "|     1|   1237|   5.0|1147868839|\n",
      "|     1|   1250|   4.0|1147868414|\n",
      "|     1|   1260|   3.5|1147877857|\n",
      "|     1|   1653|   4.0|1147868097|\n",
      "|     1|   2011|   2.5|1147868079|\n",
      "|     1|   2012|   2.5|1147868068|\n",
      "|     1|   2068|   2.5|1147869044|\n",
      "|     1|   2161|   3.5|1147868609|\n",
      "|     1|   2351|   4.5|1147877957|\n",
      "|     1|   2573|   4.0|1147878923|\n",
      "|     1|   2632|   5.0|1147878248|\n",
      "|     1|   2692|   5.0|1147869100|\n",
      "+------+-------+------+----------+\n",
      "only showing top 20 rows\n",
      "\n"
     ]
    }
   ],
   "source": [
    "ratings.show()"
   ]
  },
  {
   "cell_type": "markdown",
   "metadata": {},
   "source": [
    "We can see that the time stamp are unix (number of seconds since 1 january 1970) "
   ]
  },
  {
   "cell_type": "markdown",
   "metadata": {},
   "source": [
    "**I am going to convert timestamp to human readable timestamp**"
   ]
  },
  {
   "cell_type": "markdown",
   "metadata": {},
   "source": [
    "Importing necessary modules"
   ]
  },
  {
   "cell_type": "code",
   "execution_count": 9,
   "metadata": {},
   "outputs": [],
   "source": [
    "from pyspark.sql import functions as f\n",
    "from pyspark.sql import types as t\n"
   ]
  },
  {
   "cell_type": "markdown",
   "metadata": {},
   "source": [
    "Looking at datatypes of each column"
   ]
  },
  {
   "cell_type": "code",
   "execution_count": 10,
   "metadata": {},
   "outputs": [
    {
     "data": {
      "text/plain": [
       "[('userId', 'string'),\n",
       " ('movieId', 'string'),\n",
       " ('rating', 'string'),\n",
       " ('timestamp', 'string')]"
      ]
     },
     "execution_count": 10,
     "metadata": {},
     "output_type": "execute_result"
    }
   ],
   "source": [
    "ratings.dtypes"
   ]
  },
  {
   "cell_type": "code",
   "execution_count": 11,
   "metadata": {},
   "outputs": [],
   "source": [
    "ratings = ratings.withColumn('timestamp',f.from_unixtime(ratings.timestamp.cast(dataType=t.LongType())))"
   ]
  },
  {
   "cell_type": "markdown",
   "metadata": {},
   "source": [
    "The rating column is of string datatype, I am going to convert it to a Float"
   ]
  },
  {
   "cell_type": "code",
   "execution_count": 12,
   "metadata": {},
   "outputs": [],
   "source": [
    "ratings = ratings.withColumn('rating',ratings.rating.cast(dataType=t.FloatType()))"
   ]
  },
  {
   "cell_type": "code",
   "execution_count": 13,
   "metadata": {},
   "outputs": [
    {
     "name": "stdout",
     "output_type": "stream",
     "text": [
      "+------+-------+------+-------------------+\n",
      "|userId|movieId|rating|          timestamp|\n",
      "+------+-------+------+-------------------+\n",
      "|     1|    296|   5.0|2006-05-17 17:34:04|\n",
      "|     1|    306|   3.5|2006-05-17 14:26:57|\n",
      "|     1|    307|   5.0|2006-05-17 14:27:08|\n",
      "|     1|    665|   5.0|2006-05-17 17:13:40|\n",
      "|     1|    899|   3.5|2006-05-17 14:21:50|\n",
      "|     1|   1088|   4.0|2006-05-17 14:21:35|\n",
      "|     1|   1175|   3.5|2006-05-17 14:27:06|\n",
      "|     1|   1217|   3.5|2006-05-17 17:05:26|\n",
      "|     1|   1237|   5.0|2006-05-17 14:27:19|\n",
      "|     1|   1250|   4.0|2006-05-17 14:20:14|\n",
      "|     1|   1260|   3.5|2006-05-17 16:57:37|\n",
      "|     1|   1653|   4.0|2006-05-17 14:14:57|\n",
      "|     1|   2011|   2.5|2006-05-17 14:14:39|\n",
      "|     1|   2012|   2.5|2006-05-17 14:14:28|\n",
      "|     1|   2068|   2.5|2006-05-17 14:30:44|\n",
      "|     1|   2161|   3.5|2006-05-17 14:23:29|\n",
      "|     1|   2351|   4.5|2006-05-17 16:59:17|\n",
      "|     1|   2573|   4.0|2006-05-17 17:15:23|\n",
      "|     1|   2632|   5.0|2006-05-17 17:04:08|\n",
      "|     1|   2692|   5.0|2006-05-17 14:31:40|\n",
      "+------+-------+------+-------------------+\n",
      "only showing top 20 rows\n",
      "\n"
     ]
    }
   ],
   "source": [
    "ratings.show()"
   ]
  },
  {
   "cell_type": "markdown",
   "metadata": {},
   "source": [
    "Now that we have the timestamp in human readable format, let's find out which movies have the highest average rating as well how many people rated them"
   ]
  },
  {
   "cell_type": "markdown",
   "metadata": {},
   "source": [
    "Since I will be using the movieId column to group by, I will repartition the dataframe by MovieId to improve performace on joining with the dataframe I will be reading containing information of each movies"
   ]
  },
  {
   "cell_type": "code",
   "execution_count": 14,
   "metadata": {},
   "outputs": [],
   "source": [
    "ratings = ratings.repartition(\"movieId\").coalesce(4)"
   ]
  },
  {
   "cell_type": "code",
   "execution_count": 15,
   "metadata": {},
   "outputs": [
    {
     "data": {
      "text/plain": [
       "DataFrame[userId: string, movieId: string, rating: float, timestamp: string]"
      ]
     },
     "execution_count": 15,
     "metadata": {},
     "output_type": "execute_result"
    }
   ],
   "source": [
    "ratings.persist()"
   ]
  },
  {
   "cell_type": "markdown",
   "metadata": {},
   "source": [
    "**I will now be reading movies.csv which contains information of each movie**"
   ]
  },
  {
   "cell_type": "code",
   "execution_count": 16,
   "metadata": {},
   "outputs": [],
   "source": [
    "movies = spark.read.format(\"csv\").option(\"delimiter\", \",\"\n",
    "                                         ).option(\"ESCAPE quote\", '\"'\n",
    "                                                 ). option(\"header\",True\n",
    "                                                          ).option(\"encoding\", \"UTF-8\").load(\"movielens/ml-25m/movies.csv\"\n",
    "                                                                                            )"
   ]
  },
  {
   "cell_type": "code",
   "execution_count": 17,
   "metadata": {},
   "outputs": [
    {
     "name": "stdout",
     "output_type": "stream",
     "text": [
      "+-------+--------------------+--------------------+\n",
      "|movieId|               title|              genres|\n",
      "+-------+--------------------+--------------------+\n",
      "|      1|    Toy Story (1995)|Adventure|Animati...|\n",
      "|      2|      Jumanji (1995)|Adventure|Childre...|\n",
      "|      3|Grumpier Old Men ...|      Comedy|Romance|\n",
      "|      4|Waiting to Exhale...|Comedy|Drama|Romance|\n",
      "|      5|Father of the Bri...|              Comedy|\n",
      "|      6|         Heat (1995)|Action|Crime|Thri...|\n",
      "|      7|      Sabrina (1995)|      Comedy|Romance|\n",
      "|      8| Tom and Huck (1995)|  Adventure|Children|\n",
      "|      9| Sudden Death (1995)|              Action|\n",
      "|     10|    GoldenEye (1995)|Action|Adventure|...|\n",
      "|     11|American Presiden...|Comedy|Drama|Romance|\n",
      "|     12|Dracula: Dead and...|       Comedy|Horror|\n",
      "|     13|        Balto (1995)|Adventure|Animati...|\n",
      "|     14|        Nixon (1995)|               Drama|\n",
      "|     15|Cutthroat Island ...|Action|Adventure|...|\n",
      "|     16|       Casino (1995)|         Crime|Drama|\n",
      "|     17|Sense and Sensibi...|       Drama|Romance|\n",
      "|     18|   Four Rooms (1995)|              Comedy|\n",
      "|     19|Ace Ventura: When...|              Comedy|\n",
      "|     20|  Money Train (1995)|Action|Comedy|Cri...|\n",
      "+-------+--------------------+--------------------+\n",
      "only showing top 20 rows\n",
      "\n"
     ]
    }
   ],
   "source": [
    "movies.show()"
   ]
  },
  {
   "cell_type": "markdown",
   "metadata": {},
   "source": [
    "Repartitioning movies dataframe also on movieId"
   ]
  },
  {
   "cell_type": "code",
   "execution_count": 18,
   "metadata": {},
   "outputs": [],
   "source": [
    "movies = movies.repartition(\"movieId\").coalesce(4)"
   ]
  },
  {
   "cell_type": "markdown",
   "metadata": {},
   "source": [
    "#### I am going to calculate average and count of ratings by movieId then I will filter and keep only movies with rating 3.5 or more.\n",
    "\n",
    "#### Later I will join ratings with movies to find out names of the movies that got the highest rating. "
   ]
  },
  {
   "cell_type": "code",
   "execution_count": null,
   "metadata": {},
   "outputs": [],
   "source": [
    "aggregated_ratings = ratings.groupBy(\"movieId\").agg(\n",
    "    f.avg(\"rating\").alias(\"average_rating\"),f.count(\"rating\").alias(\"count_rating\")).where(\n",
    "    f.col(\"average_rating\")>=3.5).orderBy(\n",
    "    f.desc(\"average_rating\"),f.desc(\"count_rating\"))"
   ]
  },
  {
   "cell_type": "code",
   "execution_count": null,
   "metadata": {},
   "outputs": [
    {
     "name": "stdout",
     "output_type": "stream",
     "text": [
      "+-------+--------------+------------+--------------------+--------------------+\n",
      "|movieId|average_rating|count_rating|               title|              genres|\n",
      "+-------+--------------+------------+--------------------+--------------------+\n",
      "| 165787|           5.0|           3|Lonesome Dove Chu...|             Western|\n",
      "| 179731|           5.0|           3|Sound of Christma...|               Drama|\n",
      "| 148298|           5.0|           3|       Awaken (2013)|Drama|Romance|Sci-Fi|\n",
      "| 118268|           5.0|           3|Borrowed Time (2012)|               Drama|\n",
      "| 148114|           5.0|           2|The Ties That Bin...|  (no genres listed)|\n",
      "| 208477|           5.0|           2|       Kaithi (2019)|     Action|Thriller|\n",
      "| 178147|           5.0|           2|Beatles Stories (...|         Documentary|\n",
      "| 195641|           5.0|           2|Final Recourse (2...|      Drama|Thriller|\n",
      "| 179589|           5.0|           2|  Windstorm 2 (2015)|Adventure|Childre...|\n",
      "| 179559|           5.0|           2|The Memory Book (...|       Drama|Romance|\n",
      "| 161944|           5.0|           2|The Last Brickmak...|               Drama|\n",
      "| 169818|           5.0|           2|FB: Fighting Beat...|              Action|\n",
      "| 133297|           5.0|           2|Genius on Hold (2...|  (no genres listed)|\n",
      "| 194941|           5.0|           2|     Solitary (2016)|         Documentary|\n",
      "| 175635|           5.0|           2|American Teacher ...|         Documentary|\n",
      "| 164278|           5.0|           2|Going Attractions...|Children|Documentary|\n",
      "| 140369|           5.0|           2|    War Arrow (1954)|Adventure|Drama|R...|\n",
      "| 168020|           5.0|           2|Christmas Angel (...|Comedy|Drama|Romance|\n",
      "| 140377|           5.0|           2|         About Sarah|               Drama|\n",
      "| 159797|           5.0|           2|La muerte de Jaim...|         Documentary|\n",
      "+-------+--------------+------------+--------------------+--------------------+\n",
      "only showing top 20 rows\n",
      "\n"
     ]
    }
   ],
   "source": [
    "aggregated_ratings.join(movies, (movies.movieId==ratings.movieId),\"inner\").drop(movies[\"movieId\"]).show()"
   ]
  },
  {
   "cell_type": "markdown",
   "metadata": {},
   "source": [
    "Movies that have been rated really high were actually not rated by a lot of people"
   ]
  },
  {
   "cell_type": "markdown",
   "metadata": {},
   "source": [
    "great! Maybe this table could be really important for a website that sells movie tickets, as we have seen the spark actions take a while to compute and it is highly recommended to save tables (for example as a hive table) that might be needed very often. such tables can be consulted via spark sessions as well."
   ]
  },
  {
   "cell_type": "code",
   "execution_count": null,
   "metadata": {},
   "outputs": [],
   "source": [
    "aggregated_ratings.join(movies, (movies.movieId==ratings.movieId),\"inner\").drop(\n",
    "    movies[\"movieId\"]).createOrReplaceTempView(\"movie_ratings\")"
   ]
  },
  {
   "cell_type": "markdown",
   "metadata": {},
   "source": [
    "first I registered it as a temporary view and I will dump it into a hive table"
   ]
  },
  {
   "cell_type": "markdown",
   "metadata": {},
   "source": [
    "spark.sql(''' CREATE TABLE IF NOT EXISTS movie_ratings_hive USING parquet PARTITIONED BY (movieId)\n",
    "        AS select * from movie_ratings''')"
   ]
  },
  {
   "cell_type": "markdown",
   "metadata": {},
   "source": [
    "Coming back, let us see which movies were rated by a large number of people "
   ]
  },
  {
   "cell_type": "code",
   "execution_count": null,
   "metadata": {},
   "outputs": [
    {
     "name": "stdout",
     "output_type": "stream",
     "text": [
      "+-------+------------------+------------+--------------------+--------------------+\n",
      "|movieId|    average_rating|count_rating|               title|              genres|\n",
      "+-------+------------------+------------+--------------------+--------------------+\n",
      "|    356| 4.048011436845787|       81491| Forrest Gump (1994)|Comedy|Drama|Roma...|\n",
      "|    318| 4.413576004516335|       81482|Shawshank Redempt...|         Crime|Drama|\n",
      "|    296| 4.188912039361382|       79672| Pulp Fiction (1994)|Comedy|Crime|Dram...|\n",
      "|    593| 4.151341616415071|       74127|Silence of the La...|Crime|Horror|Thri...|\n",
      "|   2571| 4.154099127610975|       72674|  Matrix, The (1999)|Action|Sci-Fi|Thr...|\n",
      "|    260| 4.120188599618726|       68717|Star Wars: Episod...|Action|Adventure|...|\n",
      "|    480|3.6791749812920926|       64144|Jurassic Park (1993)|Action|Adventure|...|\n",
      "|    527| 4.247579083279535|       60411|Schindler's List ...|           Drama|War|\n",
      "|    110| 4.002272573668559|       59184|   Braveheart (1995)|    Action|Drama|War|\n",
      "|   2959| 4.228310618821568|       58773|   Fight Club (1999)|Action|Crime|Dram...|\n",
      "|    589|  3.94637410899458|       57379|Terminator 2: Jud...|       Action|Sci-Fi|\n",
      "|   1196| 4.144122313069856|       57361|Star Wars: Episod...|Action|Adventure|...|\n",
      "|      1| 3.893707794587238|       57309|    Toy Story (1995)|Adventure|Animati...|\n",
      "|   4993| 4.091188818716808|       55736|Lord of the Rings...|   Adventure|Fantasy|\n",
      "|     50| 4.284353213163313|       55366|Usual Suspects, T...|Crime|Mystery|Thr...|\n",
      "|   1210| 3.996512919496695|       54917|Star Wars: Episod...|Action|Adventure|...|\n",
      "|   1198| 4.123923182441701|       54675|Raiders of the Lo...|    Action|Adventure|\n",
      "|   2858| 4.107340423550448|       53689|American Beauty (...|       Drama|Romance|\n",
      "|    858| 4.324336165187245|       52498|Godfather, The (1...|         Crime|Drama|\n",
      "|   5952|4.0680511556963515|       51138|Lord of the Rings...|   Adventure|Fantasy|\n",
      "+-------+------------------+------------+--------------------+--------------------+\n",
      "only showing top 20 rows\n",
      "\n"
     ]
    }
   ],
   "source": [
    "spark.sql(\"select * from movie_ratings order by count_rating desc\").show()"
   ]
  },
  {
   "cell_type": "markdown",
   "metadata": {},
   "source": [
    "No surprise that Shawshank Redemption was one of the movies rated really high *an average of 4.41 stars* and by a **lot** of people (*81482*!) "
   ]
  },
  {
   "cell_type": "markdown",
   "metadata": {},
   "source": [
    "Let us look at the movies which were watched by an insane number of people and was really well received. (That is what a **Blockbuster** means, right?)"
   ]
  },
  {
   "cell_type": "code",
   "execution_count": null,
   "metadata": {},
   "outputs": [
    {
     "name": "stdout",
     "output_type": "stream",
     "text": [
      "+-------+------------------+------------+--------------------+--------------------+\n",
      "|movieId|    average_rating|count_rating|               title|              genres|\n",
      "+-------+------------------+------------+--------------------+--------------------+\n",
      "|    356| 4.048011436845787|       81491| Forrest Gump (1994)|Comedy|Drama|Roma...|\n",
      "|    318| 4.413576004516335|       81482|Shawshank Redempt...|         Crime|Drama|\n",
      "|    296| 4.188912039361382|       79672| Pulp Fiction (1994)|Comedy|Crime|Dram...|\n",
      "|    593| 4.151341616415071|       74127|Silence of the La...|Crime|Horror|Thri...|\n",
      "|   2571| 4.154099127610975|       72674|  Matrix, The (1999)|Action|Sci-Fi|Thr...|\n",
      "|    260| 4.120188599618726|       68717|Star Wars: Episod...|Action|Adventure|...|\n",
      "|    527| 4.247579083279535|       60411|Schindler's List ...|           Drama|War|\n",
      "|    110| 4.002272573668559|       59184|   Braveheart (1995)|    Action|Drama|War|\n",
      "|   2959| 4.228310618821568|       58773|   Fight Club (1999)|Action|Crime|Dram...|\n",
      "|   1196| 4.144122313069856|       57361|Star Wars: Episod...|Action|Adventure|...|\n",
      "|   4993| 4.091188818716808|       55736|Lord of the Rings...|   Adventure|Fantasy|\n",
      "|     50| 4.284353213163313|       55366|Usual Suspects, T...|Crime|Mystery|Thr...|\n",
      "|   1198| 4.123923182441701|       54675|Raiders of the Lo...|    Action|Adventure|\n",
      "|   2858| 4.107340423550448|       53689|American Beauty (...|       Drama|Romance|\n",
      "|    858| 4.324336165187245|       52498|Godfather, The (1...|         Crime|Drama|\n",
      "|   5952|4.0680511556963515|       51138|Lord of the Rings...|   Adventure|Fantasy|\n",
      "|   7153|4.0903399807075225|       50797|Lord of the Rings...|Action|Adventure|...|\n",
      "|     47|4.0791663372598626|       50596|Seven (a.k.a. Se7...|    Mystery|Thriller|\n",
      "|    608| 4.111421282646425|       47823|        Fargo (1996)|Comedy|Crime|Dram...|\n",
      "|   2028| 4.044107902443195|       46783|Saving Private Ry...|    Action|Drama|War|\n",
      "+-------+------------------+------------+--------------------+--------------------+\n",
      "only showing top 20 rows\n",
      "\n"
     ]
    }
   ],
   "source": [
    "spark.sql(\"select * from movie_ratings where average_rating > 4.0 and count_rating>20000 order by count_rating desc\").show()"
   ]
  },
  {
   "cell_type": "markdown",
   "metadata": {},
   "source": [
    "I suppose if you are really into movies then you surely must have heard of of all  of the titles listed above"
   ]
  },
  {
   "cell_type": "markdown",
   "metadata": {},
   "source": [
    "Let me plot the 20 most viewed movies of the blockbusters using pandas and matplotlib\n",
    "\n",
    "\n",
    "**converting the spark dataframe to pandas**\n",
    "\n",
    "df.toPandas() can convert a spark dataframe to pandas dataframe"
   ]
  },
  {
   "cell_type": "code",
   "execution_count": null,
   "metadata": {},
   "outputs": [],
   "source": [
    "import matplotlib.pyplot as plt\n",
    "import pandas as pd"
   ]
  },
  {
   "cell_type": "code",
   "execution_count": null,
   "metadata": {},
   "outputs": [],
   "source": [
    "most_viewed_highly_rated = spark.sql('''\n",
    "                select * from movie_ratings where average_rating > 4.0 and \n",
    "                    count_rating>20000 order by count_rating desc limit 20''').toPandas()"
   ]
  },
  {
   "cell_type": "code",
   "execution_count": null,
   "metadata": {},
   "outputs": [],
   "source": [
    "fig = plt.figure(figsize = (18, 16)) \n",
    "  \n",
    "# creating the bar plot \n",
    "plt.barh(most_viewed_highly_rated[\"title\"],most_viewed_highly_rated[\"count_rating\"], color ='blue') \n",
    "plt.yticks(rotation=0, fontsize=25)\n",
    "plt.xticks(rotation=0, fontsize=15)\n",
    "plt.ylabel(\"Title\", fontsize=30) \n",
    "plt.xlabel(\"Count rating\", fontsize=30) \n",
    "plt.title(\"Total ratings of the Blockbusters\", fontsize=30) \n",
    "plt.show() "
   ]
  },
  {
   "cell_type": "markdown",
   "metadata": {},
   "source": [
    "what about ratings?"
   ]
  },
  {
   "cell_type": "code",
   "execution_count": null,
   "metadata": {},
   "outputs": [],
   "source": [
    "fig = plt.figure(figsize = (18, 16)) \n",
    "  \n",
    "# creating the bar plot \n",
    "plt.barh(most_viewed_highly_rated[\"title\"],most_viewed_highly_rated[\"average_rating\"], color ='blue') \n",
    "plt.yticks(rotation=0, fontsize=25)\n",
    "plt.xticks(rotation=0, fontsize=15)\n",
    "plt.ylabel(\"Title\", fontsize=30) \n",
    "plt.xlabel(\"Average rating\", fontsize=30) \n",
    "plt.title(\"Average ratings of the Blockbusters\", fontsize=30) \n",
    "plt.show() "
   ]
  },
  {
   "cell_type": "markdown",
   "metadata": {},
   "source": [
    "**Intresting, they all have very similar ratings but Forrest Gump has been rated by around 80000 people and Saving Private Ryan by only 52.000**"
   ]
  },
  {
   "cell_type": "markdown",
   "metadata": {},
   "source": [
    "Great but what about the genre? which genre is the most popular? If you were to direct a cinema tommorow, which genre should you choose in order to get the most views?"
   ]
  },
  {
   "cell_type": "markdown",
   "metadata": {},
   "source": [
    "## Section 2- Genres and ratings"
   ]
  },
  {
   "cell_type": "code",
   "execution_count": null,
   "metadata": {},
   "outputs": [],
   "source": [
    "spark.stop()"
   ]
  }
 ],
 "metadata": {
  "kernelspec": {
   "display_name": "Python 3",
   "language": "python",
   "name": "python3"
  },
  "language_info": {
   "codemirror_mode": {
    "name": "ipython",
    "version": 3
   },
   "file_extension": ".py",
   "mimetype": "text/x-python",
   "name": "python",
   "nbconvert_exporter": "python",
   "pygments_lexer": "ipython3",
   "version": "3.7.1"
  }
 },
 "nbformat": 4,
 "nbformat_minor": 2
}
